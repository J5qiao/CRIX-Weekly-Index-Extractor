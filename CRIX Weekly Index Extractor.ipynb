{
 "cells": [
  {
   "cell_type": "code",
   "execution_count": null,
   "id": "86da9a45-d790-49b1-baa6-6cbba1cb3703",
   "metadata": {},
   "outputs": [],
   "source": [
    "from selenium import webdriver\n",
    "from selenium.webdriver.common.by import By\n",
    "from selenium.webdriver.chrome.options import Options\n",
    "import pandas as pd\n",
    "import time\n",
    "\n",
    "# Set up Chrome options\n",
    "chrome_options = Options()\n",
    "# chrome_options.add_argument(\"--headless=new\")  # Optional: run in headless mode\n",
    "chrome_options.add_argument(\"--window-size=1400,1000\")\n",
    "\n",
    "# Launch Chrome driver\n",
    "driver = webdriver.Chrome(options=chrome_options)\n",
    "driver.get(\"https://www.royalton-crix.com/\")\n",
    "time.sleep(8)  # Wait for chart to fully render\n",
    "\n",
    "# Store raw tooltip data\n",
    "raw_data = []\n",
    "\n",
    "print(\"🟢 Please manually move your mouse over the chart to collect tooltip data (Press Ctrl+C to stop)\")\n",
    "\n",
    "try:\n",
    "    while True:\n",
    "        try:\n",
    "            tooltip = driver.find_element(By.CLASS_NAME, \"highcharts-tooltip\")\n",
    "            tooltip_text = tooltip.text.strip()\n",
    "            if tooltip_text:  # Ignore empty tooltips\n",
    "                lines = tooltip_text.split(\"\\n\")\n",
    "                if len(lines) == 2:\n",
    "                    date_raw = lines[0].strip()\n",
    "                    value_raw = lines[1].strip()\n",
    "                else:\n",
    "                    date_raw = tooltip_text\n",
    "                    value_raw = \"\"\n",
    "                raw_data.append((date_raw, value_raw))\n",
    "                print(f\"✓ Recorded: {date_raw} | {value_raw}\")\n",
    "        except:\n",
    "            pass\n",
    "        time.sleep(0.3)\n",
    "except KeyboardInterrupt:\n",
    "    print(\"\\n🛑 Stopping data collection, preparing to save...\")\n",
    "\n",
    "driver.quit()\n",
    "\n",
    "# Save the collected raw data\n",
    "df = pd.DataFrame(raw_data, columns=[\"Raw_Date\", \"Raw_Crix\"])\n",
    "df.to_csv(\"crix_hover_raw_full.csv\", index=False)\n",
    "print(f\"✅ Total {len(df)} tooltip records saved to 'crix_hover_raw_full.csv'\")"
   ]
  }
 ],
 "metadata": {
  "kernelspec": {
   "display_name": "Python [conda env:base] *",
   "language": "python",
   "name": "conda-base-py"
  },
  "language_info": {
   "codemirror_mode": {
    "name": "ipython",
    "version": 3
   },
   "file_extension": ".py",
   "mimetype": "text/x-python",
   "name": "python",
   "nbconvert_exporter": "python",
   "pygments_lexer": "ipython3",
   "version": "3.13.5"
  }
 },
 "nbformat": 4,
 "nbformat_minor": 5
}
